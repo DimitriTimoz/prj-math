{
  "nbformat": 4,
  "nbformat_minor": 0,
  "metadata": {
    "colab": {
      "provenance": []
    },
    "kernelspec": {
      "name": "python3",
      "display_name": "Python 3"
    },
    "language_info": {
      "name": "python"
    }
  },
  "cells": [
    {
      "cell_type": "code",
      "execution_count": 84,
      "metadata": {
        "id": "WDHXp5IgXTGA"
      },
      "outputs": [],
      "source": [
        "from math import *\n",
        "import matplotlib.pyplot as plt\n",
        "import numpy as np\n",
        "\n",
        "%matplotlib inline"
      ]
    },
    {
      "cell_type": "markdown",
      "source": [
        "# Méhtode dichotomie"
      ],
      "metadata": {
        "id": "JGTf8TaFYMD6"
      }
    },
    {
      "cell_type": "code",
      "source": [
        "def dichotomie(f, a: float, b: float, e=0.1):\n",
        "  m = 0\n",
        "  i = 0\n",
        "  while abs(b - a) > e:\n",
        "    i += 1\n",
        "    m = float((a + b) / 2.)\n",
        "    if float(f(a)) * float(f(m)) <= 0.:\n",
        "        b = m\n",
        "    else:\n",
        "        a = m\n",
        "  return a, b, i\n"
      ],
      "metadata": {
        "id": "4FjRW4IfXY-N"
      },
      "execution_count": 85,
      "outputs": []
    },
    {
      "cell_type": "code",
      "source": [
        "g = 9.81\n",
        "V0 = 53.0\n",
        "alpha = 8.0\n",
        "h =  2.95\n",
        "f = lambda x : -0.5 * g * ((x  / (V0 * cos(radians(alpha)))) ** 2.) - tan(radians(alpha)) * x + h\n",
        "e = 0.000001\n",
        "a, b, iterations = dichotomie(f, 0., 40., e=e)\n",
        "print(\"Résultats :\")\n",
        "print(f\"Pour {iterations} itérations.\")\n",
        "n = int(1/e)\n",
        "print(f'f(x) = 0. Il existe x appartenant à [{a:.8f}, {b:.8f}] pour b - a < {e}')\n",
        "if 11.9 < (a+b)/2. < 18.3:\n",
        "  print(\"La balle attértit donc dans le domaine de validité du service.\")\n",
        "else: \n",
        "  print(\"La balle n'attértit donc pas dans le domaine de validité du service.\")"
      ],
      "metadata": {
        "id": "jgB7rAJuXau9",
        "colab": {
          "base_uri": "https://localhost:8080/"
        },
        "outputId": "96ea2ac9-9c32-431b-d7fc-fdefe2ffb06d"
      },
      "execution_count": 86,
      "outputs": [
        {
          "output_type": "stream",
          "name": "stdout",
          "text": [
            "Résultats :\n",
            "Pour 26 itérations.\n",
            "f(x) = 0. Il existe x appartenant à [17.22926080, 17.22926140] pour b - a < 1e-06\n",
            "La balle attértit donc dans le domaine de validité du service.\n"
          ]
        }
      ]
    },
    {
      "cell_type": "code",
      "source": [
        "def n_dichotomie(f, a: float, b: float, n):\n",
        "  m = 0\n",
        "  for i in range(n+1):\n",
        "    m = float((a + b) / 2.)\n",
        "    if float(f(a)) * float(f(m)) <= 0.:\n",
        "        b = m\n",
        "    else:\n",
        "        a = m\n",
        "  return a, b, i\n"
      ],
      "metadata": {
        "id": "M7QEKFxF0vDr"
      },
      "execution_count": 87,
      "outputs": []
    },
    {
      "cell_type": "markdown",
      "source": [
        "## Application de test"
      ],
      "metadata": {
        "id": "FPmXG-6BLnNd"
      }
    },
    {
      "cell_type": "code",
      "source": [
        "exp_x = lambda x : cos(x) + sin(x)\n",
        "a, b, iterations = n_dichotomie(exp_x, 0., 10., 30)\n",
        "print(\"Résultats :\")\n",
        "print(f\"Pour {iterations} itérations.\")\n",
        "n = int(1/e)\n",
        "print(f'f(x) = 0. Il existe x appartenant à [{a:.10f}, {b:.10f}]')\n"
      ],
      "metadata": {
        "colab": {
          "base_uri": "https://localhost:8080/"
        },
        "id": "O37P7RYB0mYv",
        "outputId": "50aa0333-2f37-4ca6-a3bb-5cfc83ea4236"
      },
      "execution_count": 88,
      "outputs": [
        {
          "output_type": "stream",
          "name": "stdout",
          "text": [
            "Résultats :\n",
            "Pour 30 itérations.\n",
            "f(x) = 0. Il existe x appartenant à [2.3561944859, 2.3561944906]\n"
          ]
        }
      ]
    },
    {
      "cell_type": "code",
      "source": [
        "a, b, n = dichotomie(f, 0., 40., e=0.0001)\n",
        "x = (a+b)/2\n",
        "print(x)\n",
        "print(b-a)\n",
        "print(f(x))\n",
        "if f(11.9) > 0.92:\n",
        "  print(\"passe à \", f(11.9))\n",
        "else:\n",
        "  print(\"Ne passe pas\")"
      ],
      "metadata": {
        "colab": {
          "base_uri": "https://localhost:8080/"
        },
        "id": "50fWDBaZXd1q",
        "outputId": "65560a50-7a69-447d-f457-0d6f228d10c9"
      },
      "execution_count": 89,
      "outputs": [
        {
          "output_type": "stream",
          "name": "stdout",
          "text": [
            "17.229270935058594\n",
            "7.62939453125e-05\n",
            "-1.9557397354930117e-06\n",
            "passe à  1.0254043871682712\n"
          ]
        }
      ]
    },
    {
      "cell_type": "code",
      "source": [
        "#Plot funtion\n",
        "x = np.linspace(0., 20.0, num=200)\n",
        "y = f(x)\n",
        "plt.plot([x[0], x[-1]], [0,0])\n",
        "plt.plot(x, y)\n",
        "plt.grid(True)"
      ],
      "metadata": {
        "colab": {
          "base_uri": "https://localhost:8080/",
          "height": 265
        },
        "id": "mdagx6kOOrNt",
        "outputId": "fa9bec79-76d2-484c-837b-b02b26a33b03"
      },
      "execution_count": 90,
      "outputs": [
        {
          "output_type": "display_data",
          "data": {
            "text/plain": [
              "<Figure size 432x288 with 1 Axes>"
            ],
            "image/png": "[encoded data removed]"
          },
          "metadata": {
            "needs_background": "light"
          }
        }
      ]
    },
    {
      "cell_type": "markdown",
      "source": [
        "# En fonction de Alpha"
      ],
      "metadata": {
        "id": "vdXn8dcZau1b"
      }
    },
    {
      "cell_type": "code",
      "source": [
        "alphas = np.linspace(0., 90.0, num=200)\n",
        "x = []\n",
        "for alpha in alphas:\n",
        "  f = lambda x : -0.5 * g * ((x  / (V0 * cos(radians(alpha)))) ** 2.) - tan(radians(alpha)) * x + h\n",
        "  a, b, n = n_dichotomie(f, 0., 100., 20)\n",
        "  x.append((a+b)/2.)\n",
        "plt.plot([alphas[0], alphas[-1]], [18.3]*2)\n",
        "plt.plot([alphas[0], alphas[-1]], [11.9]*2)\n",
        "plt.xlabel(\"Alpha\")\n",
        "plt.ylabel(\"position x\")\n",
        "plt.plot(alphas, x)\n",
        "plt.grid(True)\n",
        "\n"
      ],
      "metadata": {
        "colab": {
          "base_uri": "https://localhost:8080/",
          "height": 279
        },
        "id": "4uB3CvaCcOjS",
        "outputId": "1fccfc84-e55a-4f19-9d76-3408d954e532"
      },
      "execution_count": 91,
      "outputs": [
        {
          "output_type": "display_data",
          "data": {
            "text/plain": [
              "<Figure size 432x288 with 1 Axes>"
            ],
            "image/png": "[encoded data removed]"
          },
          "metadata": {
            "needs_background": "light"
          }
        }
      ]
    },
    {
      "cell_type": "markdown",
      "source": [
        "## En fonction de V0"
      ],
      "metadata": {
        "id": "AUHjUtntMbr_"
      }
    },
    {
      "cell_type": "code",
      "source": [
        "g = 9.81\n",
        "V0 = 53.0\n",
        "alpha = 8.0\n",
        "h =  2.95\n",
        "v0s = np.linspace(1.0, 175.0, num=200)\n",
        "x = []\n",
        "for v in v0s:\n",
        "  f = lambda x : -0.5 * g * ((x  / (v * cos(radians(alpha)))) ** 2.) - tan(radians(alpha)) * x + h\n",
        "  a, b, n = n_dichotomie(f, 0., 100., 20)\n",
        "  x.append((a+b)/2.)\n",
        "plt.plot([v0s[0], v0s[-1]], [18.3]*2)\n",
        "plt.plot([v0s[0], v0s[-1]], [11.9]*2)\n",
        "plt.xlabel(\"V0\")\n",
        "plt.ylabel(\"position x\")\n",
        "plt.plot(v0s, x)\n",
        "plt.grid(True)\n"
      ],
      "metadata": {
        "colab": {
          "base_uri": "https://localhost:8080/",
          "height": 279
        },
        "id": "aayzePCWMfA4",
        "outputId": "d2d20086-59cd-432a-82c4-4c6d1a258213"
      },
      "execution_count": 92,
      "outputs": [
        {
          "output_type": "display_data",
          "data": {
            "text/plain": [
              "<Figure size 432x288 with 1 Axes>"
            ],
            "image/png": "[encoded data removed]"
          },
          "metadata": {
            "needs_background": "light"
          }
        }
      ]
    }
  ]
}